{
  "cells": [
    {
      "cell_type": "markdown",
      "metadata": {
        "id": "view-in-github",
        "colab_type": "text"
      },
      "source": [
        "<a href=\"https://colab.research.google.com/github/sofaemha/upstegal/blob/main/Semester%206/Kriptografi/Tugas%2027-3-2025/Kriptografi_M1-3.ipynb\" target=\"_parent\"><img src=\"https://colab.research.google.com/assets/colab-badge.svg\" alt=\"Open In Colab\"/></a>"
      ]
    },
    {
      "cell_type": "markdown",
      "metadata": {
        "id": "P8CQqRC1qi4H"
      },
      "source": [
        "# Tugas Kriptografi\n",
        "> Dosen : Bambang Sugiarto, M.Kom\n",
        ">\n",
        "> Mahasiswa : Sofa Machabba Haeta\n",
        ">\n",
        "> NPM : 6622600044\n",
        ">\n",
        "> Kelas / Semester : 6 / B\n"
      ]
    },
    {
      "cell_type": "code",
      "source": [
        "from itertools import chain\n",
        "import numpy as np\n",
        "import math"
      ],
      "metadata": {
        "id": "ChMt1oCNxKic"
      },
      "execution_count": 765,
      "outputs": []
    },
    {
      "cell_type": "markdown",
      "metadata": {
        "id": "BBDLfWczrN0l"
      },
      "source": [
        "## 1.\tColumnar Cipher"
      ]
    },
    {
      "cell_type": "markdown",
      "source": [
        "### Enkripsi"
      ],
      "metadata": {
        "id": "tQBe2KU9d-Xh"
      }
    },
    {
      "cell_type": "markdown",
      "source": [
        "#### Langkah Pertama\n",
        "Mengidentifikasi teks yang akan dienkripsi beserta kata kunci yang digunakan. Jika melihat soal, teks yang harus dienkripsi adalah “RAHASIA NEGARA” dengan kata kunci “KEAMANAN”."
      ],
      "metadata": {
        "id": "p29P9uged3HS"
      }
    },
    {
      "cell_type": "code",
      "source": [
        "columnar_text = \"RAHASIA NEGARA\"\n",
        "columnar_key = \"KEAMANAN\""
      ],
      "metadata": {
        "id": "ifRXLZBfeCWu"
      },
      "execution_count": 766,
      "outputs": []
    },
    {
      "cell_type": "markdown",
      "metadata": {
        "id": "0r8-fGyPr6fu"
      },
      "source": [
        "#### Langkah kedua\n",
        "Menentukan panjang kunci yang digunakan, dalam hal ini adalah “KEAMANAN” yang memiliki panjang 8 huruf"
      ]
    },
    {
      "cell_type": "code",
      "source": [
        "columnar_text_length = len(columnar_text)\n",
        "columnar_key_length = len(columnar_key)\n",
        "columnar_row = math.ceil(columnar_text_length / columnar_key_length)\n",
        "columnar_space = columnar_text_length / columnar_key_length % 1 > 0"
      ],
      "metadata": {
        "id": "OJ-BcunNeKcg"
      },
      "execution_count": 767,
      "outputs": []
    },
    {
      "cell_type": "markdown",
      "source": [
        "#### Langkah Ketiga\n",
        "Menulis teks ke dalam sebuah tabel dengan banyaknya kolom sesuai dengan panjang kunci. Jangan lupa untuk mengubah nomor urut pada bagian atas terlebih dahulu. Sehingga menjadi seperti pada tabel berikut :"
      ],
      "metadata": {
        "id": "21livs2Cg3DS"
      }
    },
    {
      "cell_type": "code",
      "source": [
        "def fn_columnar_encrypt_step_1():\n",
        "  step_1 = list(columnar_text)\n",
        "  if columnar_space:\n",
        "    for i in range(columnar_row): step_1.append(\" \")\n",
        "\n",
        "  step_2 = np.array(step_1)\n",
        "  step_3 = step_2.reshape(columnar_row, columnar_key_length)\n",
        "\n",
        "  step_4 = [str(value) for value in list(range(1, columnar_key_length+1))]\n",
        "  one, two, three, four, five, six, seven, eight = step_4\n",
        "\n",
        "  step_5 = np.array(step_4)\n",
        "  step_6 = np.array([six, four, seven, one, five, three, two, eight])\n",
        "  step_7 = np.vstack([step_6, step_3])\n",
        "  return step_7\n",
        "\n",
        "for columnar_value in fn_columnar_encrypt_step_1():\n",
        "  print(columnar_value)"
      ],
      "metadata": {
        "colab": {
          "base_uri": "https://localhost:8080/"
        },
        "id": "B-E19u4Yg-Dt",
        "outputId": "2bdc5fbf-f2fb-480e-a2e6-94a626157493"
      },
      "execution_count": 768,
      "outputs": [
        {
          "output_type": "stream",
          "name": "stdout",
          "text": [
            "['6' '4' '7' '1' '5' '3' '2' '8']\n",
            "['R' 'A' 'H' 'A' 'S' 'I' 'A' ' ']\n",
            "['N' 'E' 'G' 'A' 'R' 'A' ' ' ' ']\n"
          ]
        }
      ]
    },
    {
      "cell_type": "markdown",
      "source": [
        "#### Langkah Keempat\n",
        "Mengurutkan nomor pada bagian atas tabel. Sehingga menjadi seperti pada tabel berikut :"
      ],
      "metadata": {
        "id": "3DGSuvfbz9wC"
      }
    },
    {
      "cell_type": "code",
      "source": [
        "def fn_columnar_encrypt_step_2():\n",
        "  step_1 = fn_columnar_encrypt_step_1()\n",
        "  order, top, bottom = step_1\n",
        "  step_2 = np.array([top, bottom])\n",
        "  step_3 = np.transpose(step_2).tolist()\n",
        "  six, four, seven, one, five, three, two, eight = step_3\n",
        "\n",
        "  step_4 = np.array([one, two, three, four, five, six, seven, eight])\n",
        "  step_5 = np.transpose(step_4)\n",
        "  step_6 = np.array(sorted(order, key=int))\n",
        "  step_7 = np.vstack([step_6, step_5])\n",
        "  return step_7\n",
        "\n",
        "print(fn_columnar_encrypt_step_2())"
      ],
      "metadata": {
        "colab": {
          "base_uri": "https://localhost:8080/"
        },
        "id": "gVXVhgCMnStH",
        "outputId": "d8444ed7-38b1-4979-d4b7-55cebc5382a0"
      },
      "execution_count": 769,
      "outputs": [
        {
          "output_type": "stream",
          "name": "stdout",
          "text": [
            "[['1' '2' '3' '4' '5' '6' '7' '8']\n",
            " ['A' 'A' 'I' 'A' 'S' 'R' 'H' ' ']\n",
            " ['A' ' ' 'A' 'E' 'R' 'N' 'G' ' ']]\n"
          ]
        }
      ]
    },
    {
      "cell_type": "markdown",
      "source": [
        "#### Langkah Kelima\n",
        "Menulis teks pada tabel sesuai dengan nomor urut yang ditulis dari atas ke bawah. Jika melihat tabel pada langkah keempat, maka akan menjadi teks “AAA IAAESRRNHG  ”"
      ],
      "metadata": {
        "id": "QaAH2Y-c2kRo"
      }
    },
    {
      "cell_type": "code",
      "source": [
        "def fn_columnar_encrypt_step_3():\n",
        "  step_1 = fn_columnar_encrypt_step_2()\n",
        "  order, top, bottom = step_1\n",
        "  step_2 = np.array([top, bottom])\n",
        "  step_3 = np.transpose(step_2).tolist()\n",
        "  step_4 = ''.join([''.join(map(str, item)) if isinstance(item, list) else str(item) for item in step_3]).strip()\n",
        "  return step_4\n",
        "\n",
        "print(f\"'{fn_columnar_encrypt_step_3()}'\")"
      ],
      "metadata": {
        "colab": {
          "base_uri": "https://localhost:8080/"
        },
        "id": "9TRIYyK90nem",
        "outputId": "0a045468-9d1c-4154-afe9-4d401fae23be"
      },
      "execution_count": 770,
      "outputs": [
        {
          "output_type": "stream",
          "name": "stdout",
          "text": [
            "'AAA IAAESRRNHG'\n"
          ]
        }
      ]
    },
    {
      "cell_type": "markdown",
      "source": [
        "## 2.\tAffine Cipher"
      ],
      "metadata": {
        "id": "qlcHV8Jadvzv"
      }
    },
    {
      "cell_type": "markdown",
      "metadata": {
        "id": "c8Da6GwlAWEG"
      },
      "source": [
        "### Enkripsi"
      ]
    },
    {
      "cell_type": "markdown",
      "metadata": {
        "id": "Bwl6bmqJrSha"
      },
      "source": [
        "#### Langkah Pertama\n",
        "Mengidentifikasi teks yang akan dienkripsi beserta kata kunci yang digunakan. Jika melihat soal, teks yang harus dienkripsi adalah “PESAN” dengan kata kunci (a/salt) 5, dan (b/offsets) 8."
      ]
    },
    {
      "cell_type": "code",
      "execution_count": 771,
      "metadata": {
        "id": "hDHQF4F2q57X"
      },
      "outputs": [],
      "source": [
        "affine_text = \"PESAN\""
      ]
    },
    {
      "cell_type": "code",
      "execution_count": 772,
      "metadata": {
        "id": "ltoQzLwUqXlm"
      },
      "outputs": [],
      "source": [
        "affine_salt = 5\n",
        "affine_offset = 8\n",
        "affine_max_char = 26\n",
        "affine_char_diff = 65"
      ]
    },
    {
      "cell_type": "markdown",
      "metadata": {
        "id": "A3J16PUgroiW"
      },
      "source": [
        "#### Langkah Kedua\n",
        "Mengubah teks menjadi angka numerik dengan rumus jika A adalah 0 (nol), dan Z adalah 25 (dua puluh lima). Sehingga teks [ P, E, S, A, N ] akan berubah menjadi [ 15, 4, 18, 0, 13 ]."
      ]
    },
    {
      "cell_type": "code",
      "execution_count": 773,
      "metadata": {
        "colab": {
          "base_uri": "https://localhost:8080/"
        },
        "id": "Z26Csvuzr-oD",
        "outputId": "dc259820-335f-4444-92fd-db2b8dfe7740"
      },
      "outputs": [
        {
          "output_type": "stream",
          "name": "stdout",
          "text": [
            "['P', 'E', 'S', 'A', 'N']\n"
          ]
        }
      ],
      "source": [
        "def fn_affine_encrypt_step_1():\n",
        "  step_1 = list(affine_text)\n",
        "  return step_1\n",
        "\n",
        "print(fn_affine_encrypt_step_1())\n"
      ]
    },
    {
      "cell_type": "code",
      "execution_count": 774,
      "metadata": {
        "colab": {
          "base_uri": "https://localhost:8080/"
        },
        "id": "NqXAKC8atAo7",
        "outputId": "455686aa-bbf2-4717-f48a-6df6d4796fcf"
      },
      "outputs": [
        {
          "output_type": "stream",
          "name": "stdout",
          "text": [
            "[15, 4, 18, 0, 13]\n",
            "\n",
            "P: 15\n",
            "E: 4\n",
            "S: 18\n",
            "A: 0\n",
            "N: 13\n"
          ]
        }
      ],
      "source": [
        "affine_log_encrypt_step_2 = []\n",
        "\n",
        "def fn_affine_encrypt_step_2():\n",
        "  step_1 = fn_affine_encrypt_step_1()\n",
        "  step_2 = [value - affine_char_diff for value in list(map(ord, step_1))]\n",
        "\n",
        "  for affine_index, affine_value in enumerate(step_1):\n",
        "    log_entry = f\"{step_1[affine_index]}: {ord(affine_value)-affine_char_diff}\"\n",
        "    affine_log_encrypt_step_2.append(log_entry)\n",
        "\n",
        "  return step_2\n",
        "\n",
        "print(f\"{fn_affine_encrypt_step_2()}\\n\")\n",
        "\n",
        "for entry in affine_log_encrypt_step_2:\n",
        "  print(entry)"
      ]
    },
    {
      "cell_type": "markdown",
      "metadata": {
        "id": "EXyTKjMCt0a2"
      },
      "source": [
        "#### Langkah Ketiga\n",
        "Melakukan enkripsi dengan rumus : $ E_{(x)}=(a\\ast x+b)\\ \\%\\ c$\n",
        "\n",
        "Apabila salt (a) adalah 5, offsets (b) adalah 8, dan jumlah huruf (c) adalah 26. Maka akan menjadi sebagai berikut :"
      ]
    },
    {
      "cell_type": "code",
      "execution_count": 775,
      "metadata": {
        "colab": {
          "base_uri": "https://localhost:8080/"
        },
        "id": "Q6-vlmZhuEoK",
        "outputId": "3d125c3b-63cf-48ac-b3e5-0c24fe9cbe92"
      },
      "outputs": [
        {
          "output_type": "stream",
          "name": "stdout",
          "text": [
            "[5, 2, 20, 8, 21]\n",
            "\n",
            "P: (15 * 5 + 8) = (75 + 8) % 26 = 83 % 26 = 5\n",
            "E: (4 * 5 + 8) = (20 + 8) % 26 = 28 % 26 = 2\n",
            "S: (18 * 5 + 8) = (90 + 8) % 26 = 98 % 26 = 20\n",
            "A: (0 * 5 + 8) = (0 + 8) % 26 = 8 % 26 = 8\n",
            "N: (13 * 5 + 8) = (65 + 8) % 26 = 73 % 26 = 21\n"
          ]
        }
      ],
      "source": [
        "affine_log_encrypt_step_3 = []\n",
        "affine_log_encrypt_step_3_sub_step_5 = []\n",
        "\n",
        "def fn_affine_encrypt_step_3():\n",
        "  step_1 = fn_affine_encrypt_step_1()\n",
        "  step_2 = fn_affine_encrypt_step_2()\n",
        "  step_3 = [((affine_value * affine_salt + affine_offset) % affine_max_char) for affine_value in step_2]\n",
        "  step_7 = []\n",
        "\n",
        "  for affine_index, affine_value in enumerate(step_2):\n",
        "    step_4 = affine_value * affine_salt\n",
        "    step_5 = step_4 + affine_offset\n",
        "    step_6 = step_5 % affine_max_char\n",
        "    step_7.append(step_5)\n",
        "    log_entry = f\"{step_1[affine_index]}: ({affine_value} * {affine_salt} + {affine_offset}) = ({step_4} + {affine_offset}) % {affine_max_char} = {step_5} % {affine_max_char} = {step_6}\"\n",
        "    affine_log_encrypt_step_3.append(log_entry)\n",
        "\n",
        "  affine_log_encrypt_step_3_sub_step_5.extend(step_7)\n",
        "  return step_3\n",
        "\n",
        "print(f\"{fn_affine_encrypt_step_3()}\\n\")\n",
        "\n",
        "for entry in affine_log_encrypt_step_3:\n",
        "  print(entry)"
      ]
    },
    {
      "cell_type": "markdown",
      "metadata": {
        "id": "6Wfg0_tr-mx8"
      },
      "source": [
        "#### Langkah Keempat\n",
        "Berdasarkan hasil visualisasi modulus pada langkah ketiga dapat ditarik kesimpulan bahwa nilai awal dari teks yakni [ 15, 4, 18, 0, 13 ], akan berubah menjadi [ 5, 2, 20, 8, 21] setelah melewati proses enkripsi."
      ]
    },
    {
      "cell_type": "markdown",
      "metadata": {
        "id": "wF1mzxg26pFs"
      },
      "source": [
        "##### Visualisasi Modulus\n",
        "Menggunakan rumus $ M_{(A)}=A-P_{(n)} $, dimana $ A $ adalah $ (x \\ast a + b) $ dan $ P_{(n)} $ adalah perkalian antara jumlah huruf (c) dengan iterasi ke-n. Alasan kenapa saya menggunakan cara ini, agar mudah melakukan presentasi visual, daripada harus menebak berapa angka yang jika dikalikan dengan 26 hasilnya mendekati dan tidak melebihi $ A $. Sehingga menjadi seperti pada tabel berikut :"
      ]
    },
    {
      "cell_type": "code",
      "source": [
        "affine_log_encrypt_step_4_sub_step_1 = []\n",
        "affine_log_encrypt_step_4_sub_step_2 = fn_affine_encrypt_step_1()\n",
        "\n",
        "def fn_affine_encrypt_step_4():\n",
        "\n",
        "  step_1 = affine_log_encrypt_step_4_sub_step_2\n",
        "  step_2 = affine_log_encrypt_step_3_sub_step_5\n",
        "  chunk_p, chunk_e, chunk_s, chunk_a, chunk_n = step_2\n",
        "  step_3 = {\n",
        "    \"P\": lambda array: fn_step_1(text_p, array),\n",
        "    \"E\": lambda array: fn_step_1(text_e, array),\n",
        "    \"S\": lambda array: fn_step_1(text_s, array),\n",
        "    \"A\": lambda array: fn_step_1(text_a, array),\n",
        "    \"N\": lambda array: fn_step_1(text_n, array),\n",
        "  }\n",
        "\n",
        "  text_p = [chunk_p]\n",
        "  text_e = [chunk_e]\n",
        "  text_s = [chunk_s]\n",
        "  text_a = [chunk_a]\n",
        "  text_n = [chunk_n]\n",
        "\n",
        "  def fn_step_1(value, *array):\n",
        "    sub_step_1 = f\"{array[-1]}\"\n",
        "    sub_step_2 = value[-1] - (affine_max_char * 1)\n",
        "    if (sub_step_2 >= 0):\n",
        "      fn_step_2(sub_step_1, sub_step_2)\n",
        "      fn_step_1([sub_step_2], array[-1])\n",
        "\n",
        "  def fn_step_2(index, value):\n",
        "      if (index == \"P\"): text_p.append(value)\n",
        "      if (index == \"E\"): text_e.append(value)\n",
        "      if (index == \"S\"): text_s.append(value)\n",
        "      if (index == \"A\"): text_a.append(value)\n",
        "      if (index == \"N\"): text_n.append(value)\n",
        "\n",
        "  for affine_value in step_1:\n",
        "    step_3.get(affine_value)(affine_value)\n",
        "\n",
        "  return [ text_p, text_e, text_s, text_a, text_n ]\n",
        "\n",
        "affine_log_encrypt_step_4_sub_step_1.extend(fn_affine_encrypt_step_4())\n",
        "\n",
        "for affine_index, affine_value in enumerate(affine_log_encrypt_step_4_sub_step_1):\n",
        "  print(f\"{affine_log_encrypt_step_4_sub_step_2[affine_index]}: {affine_value}\")"
      ],
      "metadata": {
        "colab": {
          "base_uri": "https://localhost:8080/"
        },
        "id": "d69RMSk67to0",
        "outputId": "8d79cf5e-8988-4ecd-d88e-95b9962a8904"
      },
      "execution_count": 776,
      "outputs": [
        {
          "output_type": "stream",
          "name": "stdout",
          "text": [
            "P: [83, 57, 31, 5]\n",
            "E: [28, 2]\n",
            "S: [98, 72, 46, 20]\n",
            "A: [8]\n",
            "N: [73, 47, 21]\n"
          ]
        }
      ]
    },
    {
      "cell_type": "markdown",
      "metadata": {
        "id": "iYQAODOc9NIH"
      },
      "source": [
        "<table>\n",
        "  <tr>\n",
        "    <td rowspan=\"2\">#</td>\n",
        "    <td rowspan=\"2\">A</td>\n",
        "    <td colspan=\"3\">\n",
        "      <center>n</center>\n",
        "    </td>\n",
        "  </tr>\n",
        "  <tr>\n",
        "    <td>\n",
        "      <center>1</center>\n",
        "    </td>\n",
        "    <td>\n",
        "      <center>2</center>\n",
        "    </td>\n",
        "    <td>\n",
        "      <center>3</center>\n",
        "    </td>\n",
        "  </tr>\n",
        "  <tr>\n",
        "    <td>P</td>\n",
        "    <td>83</td>\n",
        "    <td>83-(26*1)</td>\n",
        "    <td>83-(26*2)</td>\n",
        "    <td>83-(26*3)</td>\n",
        "  </tr>\n",
        "  <tr>\n",
        "    <td>E</td>\n",
        "    <td>28</td>\n",
        "    <td>28-(26*1)</td>\n",
        "    <td>28-(26*2)</td>\n",
        "    <td>28-(26*3)</td>\n",
        "  </tr>\n",
        "  <tr>\n",
        "    <td>S</td>\n",
        "    <td>98</td>\n",
        "    <td>98-(26*1)</td>\n",
        "    <td>98-(26*2)</td>\n",
        "    <td>98-(26*3)</td>\n",
        "  </tr>\n",
        "  <tr>\n",
        "    <td>A</td>\n",
        "    <td>8</td>\n",
        "    <td>8-(26*1)</td>\n",
        "    <td>8-(26*2)</td>\n",
        "    <td>8-(26*3)</td>\n",
        "  </tr>\n",
        "  <tr>\n",
        "    <td>N</td>\n",
        "    <td>73</td>\n",
        "    <td>73-(26*1)</td>\n",
        "    <td>73-(26*2)</td>\n",
        "    <td>73-(26*3)</td>\n",
        "  </tr>\n",
        "</table>"
      ]
    },
    {
      "cell_type": "markdown",
      "metadata": {
        "id": "8rynOhPt9G0L"
      },
      "source": [
        "<table>\n",
        "  <tr>\n",
        "    <td rowspan=\"2\">#</td>\n",
        "    <td rowspan=\"2\">A</td>\n",
        "    <td colspan=\"3\">\n",
        "      <center>n</center>\n",
        "    </td>\n",
        "  </tr>\n",
        "  <tr>\n",
        "    <td>\n",
        "      <center>1</center>\n",
        "    </td>\n",
        "    <td>\n",
        "      <center>2</center>\n",
        "    </td>\n",
        "    <td>\n",
        "      <center>3</center>\n",
        "    </td>\n",
        "  </tr>\n",
        "  <tr>\n",
        "    <td>P</td>\n",
        "    <td>83</td>\n",
        "    <td>83-26</td>\n",
        "    <td>83-52</td>\n",
        "    <td>83-78</td>\n",
        "  </tr>\n",
        "  <tr>\n",
        "    <td>E</td>\n",
        "    <td>28</td>\n",
        "    <td>28-26</td>\n",
        "    <td>28-52</td>\n",
        "    <td>28-78</td>\n",
        "  </tr>\n",
        "  <tr>\n",
        "    <td>S</td>\n",
        "    <td>98</td>\n",
        "    <td>98-26</td>\n",
        "    <td>98-52</td>\n",
        "    <td>98-78</td>\n",
        "  </tr>\n",
        "  <tr>\n",
        "    <td>A</td>\n",
        "    <td>8</td>\n",
        "    <td>8-26</td>\n",
        "    <td>8-52</td>\n",
        "    <td>8-78</td>\n",
        "  </tr>\n",
        "  <tr>\n",
        "    <td>N</td>\n",
        "    <td>73</td>\n",
        "    <td>73-26</td>\n",
        "    <td>73-52</td>\n",
        "    <td>73-78</td>\n",
        "  </tr>\n",
        "</table>"
      ]
    },
    {
      "cell_type": "markdown",
      "metadata": {
        "id": "EgFvtkeZ9rKK"
      },
      "source": [
        "<table>\n",
        "  <tr>\n",
        "    <td rowspan=\"2\">#</td>\n",
        "    <td rowspan=\"2\">A</td>\n",
        "    <td colspan=\"3\">\n",
        "      <center>n</center>\n",
        "    </td>\n",
        "  </tr>\n",
        "  <tr>\n",
        "    <td>\n",
        "      <center>1</center>\n",
        "    </td>\n",
        "    <td>\n",
        "      <center>2</center>\n",
        "    </td>\n",
        "    <td>\n",
        "      <center>3</center>\n",
        "    </td>\n",
        "  </tr>\n",
        "  <tr>\n",
        "    <td>P</td>\n",
        "    <td>83</td>\n",
        "    <td>57</td>\n",
        "    <td>31</td>\n",
        "    <td>5</td>\n",
        "  </tr>\n",
        "  <tr>\n",
        "    <td>E</td>\n",
        "    <td>28</td>\n",
        "    <td>2</td>\n",
        "    <td>-24</td>\n",
        "    <td>-50</td>\n",
        "  </tr>\n",
        "  <tr>\n",
        "    <td>S</td>\n",
        "    <td>98</td>\n",
        "    <td>72</td>\n",
        "    <td>46</td>\n",
        "    <td>20</td>\n",
        "  </tr>\n",
        "  <tr>\n",
        "    <td>A</td>\n",
        "    <td>8</td>\n",
        "    <td>-18</td>\n",
        "    <td>-44</td>\n",
        "    <td>-70</td>\n",
        "  </tr>\n",
        "  <tr>\n",
        "    <td>N</td>\n",
        "    <td>73</td>\n",
        "    <td>47</td>\n",
        "    <td>21</td>\n",
        "    <td>-5</td>\n",
        "  </tr>\n",
        "</table>"
      ]
    },
    {
      "cell_type": "markdown",
      "metadata": {
        "id": "pUPwM5G7-ZcC"
      },
      "source": [
        "##### Kesimpulan\n",
        "Berdasarkan tabel di atas, kotak dengan warna kuning menandakan bahwa nilai dari $ M(A) $ berdasarkan iterasi ke-n sudah melebihi 0 (nol) dan dinyatakan tidak valid karena menghasilkan sisa hasil bagi dengan nilai negatif. Oleh karena itu, nilai $ M(A) $ yang bisa diambil adalah iterasi sebelum sisa hasil bagi menjadi negatif, yang ditandai dengan kotak berwarna hijau. Akan tetapi, jika sejak iterasi pertama sisa hasil bagi sudah bernilai negatif, maka nilai dari $ M(A) $ adalah $ A $."
      ]
    },
    {
      "cell_type": "markdown",
      "metadata": {
        "id": "29yn2AqI_GBG"
      },
      "source": [
        "#### Langkah Kelima\n",
        "Mengubah angka numerik sesuai dengan rumus pada langkah kedua, sehingga menjadi [ F, C, U, I, V ] atau “FCUIV”."
      ]
    },
    {
      "cell_type": "code",
      "execution_count": 777,
      "metadata": {
        "colab": {
          "base_uri": "https://localhost:8080/"
        },
        "id": "VdOO3Nji_bzi",
        "outputId": "c4b0821d-b1be-4e63-8fd0-6c771efe60b5"
      },
      "outputs": [
        {
          "output_type": "stream",
          "name": "stdout",
          "text": [
            "['F', 'C', 'U', 'I', 'V']\n",
            "\n",
            "P: F\n",
            "E: C\n",
            "S: U\n",
            "A: I\n",
            "N: V\n"
          ]
        }
      ],
      "source": [
        "affine_log_encrypt_step_5 = []\n",
        "\n",
        "def fn_affine_encrypt_step_5():\n",
        "  step_1 = fn_affine_encrypt_step_1()\n",
        "  step_2 = fn_affine_encrypt_step_2()\n",
        "  step_3 = fn_affine_encrypt_step_3()\n",
        "  step_4 = [chr(value + affine_char_diff) for value in step_3]\n",
        "\n",
        "  for affine_index, affine_value in enumerate(step_4):\n",
        "    log_entry = f\"{step_1[affine_index]}: {affine_value}\"\n",
        "    affine_log_encrypt_step_5.append(log_entry)\n",
        "\n",
        "  return step_4\n",
        "\n",
        "print(f\"{fn_affine_encrypt_step_5()}\\n\")\n",
        "\n",
        "for entry in affine_log_encrypt_step_5:\n",
        "  print(entry)"
      ]
    },
    {
      "cell_type": "markdown",
      "metadata": {
        "id": "P-JIZcIbD39H"
      },
      "source": [
        "### Dekripsi"
      ]
    },
    {
      "cell_type": "markdown",
      "source": [
        "#### Langkah Pertama\n",
        "Mengubah teks menjadi angka numerik dengan rumus jika A adalah 0 (nol), dan Z adalah 25 (dua puluh lima). Sehingga teks [ F, C, U, I, V ] akan berubah menjadi [ 5, 2, 20, 8, 21]."
      ],
      "metadata": {
        "id": "YpdLf7BsQqwk"
      }
    },
    {
      "cell_type": "code",
      "source": [
        "affine_log_decrypt_step_1 = []\n",
        "\n",
        "def fn_affine_decrypt_step_1():\n",
        "  step_1 = fn_affine_encrypt_step_5()\n",
        "  step_2 = [value - affine_char_diff for value in list(map(ord, step_1))]\n",
        "\n",
        "  for affine_index, affine_value in enumerate(step_1):\n",
        "    log_entry = f\"{step_1[affine_index]}: {ord(affine_value)-affine_char_diff}\"\n",
        "    affine_log_decrypt_step_1.append(log_entry)\n",
        "\n",
        "  return step_2\n",
        "\n",
        "print(f\"{fn_affine_decrypt_step_1()}\\n\")\n",
        "\n",
        "for entry in affine_log_decrypt_step_1:\n",
        "  print(entry)"
      ],
      "metadata": {
        "colab": {
          "base_uri": "https://localhost:8080/"
        },
        "id": "K8X8ZPoTQxzR",
        "outputId": "51c9d7ac-c51b-4027-83a6-ad1619dcc3d9"
      },
      "execution_count": 778,
      "outputs": [
        {
          "output_type": "stream",
          "name": "stdout",
          "text": [
            "[5, 2, 20, 8, 21]\n",
            "\n",
            "F: 5\n",
            "C: 2\n",
            "U: 20\n",
            "I: 8\n",
            "V: 21\n"
          ]
        }
      ]
    },
    {
      "cell_type": "markdown",
      "metadata": {
        "id": "ynN1ppwLD52z"
      },
      "source": [
        "#### Langkah Kedua"
      ]
    },
    {
      "cell_type": "markdown",
      "source": [
        "Mengidentifikasi nilai dari $a^{-1}$ yang terdapat pada rumus $D_{(x)}=a^{-1}(x-b)\\ \\% \\ c$. Apabila $a^{-1}$ adalah bilangan relatif prima antara salt (a) dan jumlah huruf (c) yang merujuk pada angka berapa yang jika dikalikan dengan (a) dan dimodulus oleh (c) menghasilkan nilai 1 (satu), atau dapat ditulis dengan rumus $P_{(n)}=a * n \\ \\% \\ c$. Sehingga bisa menjadi seperti pada hasil berikut :"
      ],
      "metadata": {
        "id": "M0cmzgxvN2LX"
      }
    },
    {
      "cell_type": "code",
      "execution_count": 779,
      "metadata": {
        "colab": {
          "base_uri": "https://localhost:8080/"
        },
        "id": "hM-_b1zFFNHR",
        "outputId": "403030a2-b4b2-48b9-ae25-9ecb67c38725"
      },
      "outputs": [
        {
          "output_type": "stream",
          "name": "stdout",
          "text": [
            "21\n",
            "\n",
            "[5, 10, 15, 20, 25, 4, 9, 14, 19, 24, 3, 8, 13, 18, 23, 2, 7, 12, 17, 22, 1]\n",
            "\n",
            "(n = 1) = 5 * 1 % 26 = 5 % 26 = 5\n",
            "(n = 2) = 5 * 2 % 26 = 10 % 26 = 10\n",
            "(n = 3) = 5 * 3 % 26 = 15 % 26 = 15\n",
            "(n = 4) = 5 * 4 % 26 = 20 % 26 = 20\n",
            "(n = 5) = 5 * 5 % 26 = 25 % 26 = 25\n",
            "(n = 6) = 5 * 6 % 26 = 30 % 26 = 4\n",
            "(n = 7) = 5 * 7 % 26 = 35 % 26 = 9\n",
            "(n = 8) = 5 * 8 % 26 = 40 % 26 = 14\n",
            "(n = 9) = 5 * 9 % 26 = 45 % 26 = 19\n",
            "(n = 10) = 5 * 10 % 26 = 50 % 26 = 24\n",
            "(n = 11) = 5 * 11 % 26 = 55 % 26 = 3\n",
            "(n = 12) = 5 * 12 % 26 = 60 % 26 = 8\n",
            "(n = 13) = 5 * 13 % 26 = 65 % 26 = 13\n",
            "(n = 14) = 5 * 14 % 26 = 70 % 26 = 18\n",
            "(n = 15) = 5 * 15 % 26 = 75 % 26 = 23\n",
            "(n = 16) = 5 * 16 % 26 = 80 % 26 = 2\n",
            "(n = 17) = 5 * 17 % 26 = 85 % 26 = 7\n",
            "(n = 18) = 5 * 18 % 26 = 90 % 26 = 12\n",
            "(n = 19) = 5 * 19 % 26 = 95 % 26 = 17\n",
            "(n = 20) = 5 * 20 % 26 = 100 % 26 = 22\n",
            "(n = 21) = 5 * 21 % 26 = 105 % 26 = 1\n"
          ]
        }
      ],
      "source": [
        "affine_log_decrypt_step_2_sub_step_2 = []\n",
        "affine_log_decrypt_step_2_sub_step_3 = []\n",
        "\n",
        "def fn_affine_decrypt_step_2():\n",
        "  fn_step_1 = lambda affine_value: affine_value * affine_salt\n",
        "  fn_step_2 = lambda affine_value: fn_step_1(affine_value) % affine_max_char\n",
        "  step_1 = [1]\n",
        "  step_2 = [fn_step_2(step_1[0])]\n",
        "\n",
        "  while step_2[-1] != 1:\n",
        "    step_1.append(step_1[-1]+1)\n",
        "    step_2.append(fn_step_2(step_1[-1]))\n",
        "\n",
        "  for affine_value in step_1:\n",
        "    step_3 = f\"(n = {affine_value}) = {affine_salt} * {affine_value} % {affine_max_char} = {fn_step_1(affine_value)} % {affine_max_char} = {fn_step_2(affine_value)}\"\n",
        "    affine_log_decrypt_step_2_sub_step_3.append(step_3)\n",
        "\n",
        "  affine_log_decrypt_step_2_sub_step_2.extend(step_2)\n",
        "  step_3 = step_1[-1]\n",
        "  return step_3\n",
        "\n",
        "print(f\"{fn_affine_decrypt_step_2()}\\n\")\n",
        "print(f\"{affine_log_decrypt_step_2_sub_step_2}\\n\")\n",
        "\n",
        "for entry in affine_log_decrypt_step_2_sub_step_3:\n",
        "  print(entry)"
      ]
    },
    {
      "cell_type": "markdown",
      "source": [
        "Berdasarkan perhitungan di atas, dapat disimpulkan bahwa nilai dari $a^{-1}$ adalah 21."
      ],
      "metadata": {
        "id": "Ubs8l-B8OhYN"
      }
    },
    {
      "cell_type": "markdown",
      "source": [
        "#### Langkah Ketiga\n",
        "Melakukan dekripsi sesuai dengan rumus pada langkah pertama, apabila  offsets (b) adalah 8, dan jumlah huruf (c) adalah 26. Sehingga menjadi seperti pada hasil berikut :"
      ],
      "metadata": {
        "id": "BO0Whk7mRG55"
      }
    },
    {
      "cell_type": "code",
      "source": [
        "affine_log_decrypt_step_3 = []\n",
        "affine_log_decrypt_step_3_sub_step_6 = []\n",
        "\n",
        "def fn_affine_decrypt_step_3():\n",
        "  step_1 = fn_affine_encrypt_step_5()\n",
        "  step_2 = fn_affine_decrypt_step_1()\n",
        "  step_3 = fn_affine_decrypt_step_2()\n",
        "  step_4 = [(step_3 * (value - affine_offset)) % affine_max_char for value in step_2]\n",
        "  step_8 = []\n",
        "\n",
        "  for affine_index, affine_value in enumerate(step_2):\n",
        "    step_5 = affine_value - affine_offset\n",
        "    step_6 = step_5 * step_3\n",
        "    step_7 = step_6 % affine_max_char\n",
        "    step_8.append(step_6)\n",
        "    log_entry = f\"{step_1[affine_index]} : ({step_3} * ({affine_value} - {affine_offset})) % {affine_max_char} = ({step_3} * {step_5}) % {affine_max_char} = {step_6} % {affine_max_char} = {step_7}\"\n",
        "    affine_log_decrypt_step_3.append(log_entry)\n",
        "\n",
        "  affine_log_decrypt_step_3_sub_step_6.extend(step_8)\n",
        "  return step_4\n",
        "\n",
        "print(f\"{fn_affine_decrypt_step_3()}\\n\")\n",
        "for entry in affine_log_decrypt_step_3:\n",
        "  print(entry)"
      ],
      "metadata": {
        "colab": {
          "base_uri": "https://localhost:8080/"
        },
        "id": "MMRBqZtJRNid",
        "outputId": "d7324258-9c8e-4a09-d27e-93fa6e6cb41d"
      },
      "execution_count": 780,
      "outputs": [
        {
          "output_type": "stream",
          "name": "stdout",
          "text": [
            "[15, 4, 18, 0, 13]\n",
            "\n",
            "F : (21 * (5 - 8)) % 26 = (21 * -3) % 26 = -63 % 26 = 15\n",
            "C : (21 * (2 - 8)) % 26 = (21 * -6) % 26 = -126 % 26 = 4\n",
            "U : (21 * (20 - 8)) % 26 = (21 * 12) % 26 = 252 % 26 = 18\n",
            "I : (21 * (8 - 8)) % 26 = (21 * 0) % 26 = 0 % 26 = 0\n",
            "V : (21 * (21 - 8)) % 26 = (21 * 13) % 26 = 273 % 26 = 13\n"
          ]
        }
      ]
    },
    {
      "cell_type": "markdown",
      "source": [
        "#### Langkah Kelima\n",
        "Mengubah angka numerik sesuai dengan rumus pada langkah kedua, sehingga menjadi [ P, E, S, A, N ] atau “PESAN”."
      ],
      "metadata": {
        "id": "BoKQnHr2V3nB"
      }
    },
    {
      "cell_type": "code",
      "source": [
        "affine_log_decrypt_step_5 = []\n",
        "\n",
        "def fn_affine_decrypt_step_5():\n",
        "  step_1 = fn_affine_encrypt_step_5()\n",
        "  step_2 = fn_affine_decrypt_step_3()\n",
        "  step_3 = [chr(value + affine_char_diff) for value in step_2]\n",
        "\n",
        "  for affine_index, affine_value in enumerate(step_3):\n",
        "    log_entry = f\"{step_1[affine_index]}: {affine_value}\"\n",
        "    affine_log_decrypt_step_5.append(log_entry)\n",
        "  return step_3\n",
        "\n",
        "print(f\"{fn_affine_decrypt_step_5()}\\n\")\n",
        "for entry in affine_log_decrypt_step_5:\n",
        "  print(entry)"
      ],
      "metadata": {
        "colab": {
          "base_uri": "https://localhost:8080/"
        },
        "id": "lxsFbYoQWiaP",
        "outputId": "65f3f6df-088d-40f6-e388-6446daf89121"
      },
      "execution_count": 781,
      "outputs": [
        {
          "output_type": "stream",
          "name": "stdout",
          "text": [
            "['P', 'E', 'S', 'A', 'N']\n",
            "\n",
            "F: P\n",
            "C: E\n",
            "U: S\n",
            "I: A\n",
            "V: N\n"
          ]
        }
      ]
    },
    {
      "cell_type": "markdown",
      "source": [
        "## 3.\tHill Cipher"
      ],
      "metadata": {
        "id": "Xq50_j5oXNYW"
      }
    },
    {
      "cell_type": "markdown",
      "source": [
        "### Enkripsi"
      ],
      "metadata": {
        "id": "C63Puwa9FxnJ"
      }
    },
    {
      "cell_type": "markdown",
      "source": [
        "#### Langkah Pertama\n",
        "Mengidentifikasi teks yang akan dienkripsi beserta kata kunci yang digunakan. Jika melihat soal, teks yang harus dienkripsi adalah “SAYA” dengan kata kunci (key/salt) CBDE"
      ],
      "metadata": {
        "id": "iG4Ba9Y52l1b"
      }
    },
    {
      "cell_type": "code",
      "source": [
        "hill_text = \"SAYA\"\n",
        "hill_key = \"CBDE\"\n",
        "hill_slice = 2\n",
        "hill_max_char = 26\n",
        "hill_char_diff = 65"
      ],
      "metadata": {
        "id": "t2NaBPNq9ZMw"
      },
      "execution_count": 782,
      "outputs": []
    },
    {
      "cell_type": "code",
      "source": [
        "def fn_hill_encrypt_step_1():\n",
        "  step_1 = list(hill_text)\n",
        "  return step_1\n",
        "\n",
        "print(fn_hill_encrypt_step_1())"
      ],
      "metadata": {
        "colab": {
          "base_uri": "https://localhost:8080/"
        },
        "id": "vHU5ddLmGXGl",
        "outputId": "570efa00-eb34-43f6-d841-abc4f0afc9e5"
      },
      "execution_count": 783,
      "outputs": [
        {
          "output_type": "stream",
          "name": "stdout",
          "text": [
            "['S', 'A', 'Y', 'A']\n"
          ]
        }
      ]
    },
    {
      "cell_type": "code",
      "source": [
        "def fn_hill_encrypt_step_2():\n",
        "  step_1 = list(hill_key)\n",
        "  return step_1\n",
        "\n",
        "print(fn_hill_encrypt_step_2())"
      ],
      "metadata": {
        "colab": {
          "base_uri": "https://localhost:8080/"
        },
        "id": "Q7Veld4bIhRw",
        "outputId": "f25b9c13-2f0b-4e19-9d0b-6920bb456e46"
      },
      "execution_count": 784,
      "outputs": [
        {
          "output_type": "stream",
          "name": "stdout",
          "text": [
            "['C', 'B', 'D', 'E']\n"
          ]
        }
      ]
    },
    {
      "cell_type": "markdown",
      "source": [
        "#### Langkah Kedua\n",
        "Mengubah teks menjadi angka numerik dengan rumus jika A adalah 0 (nol), dan Z adalah 25 (dua puluh lima). Sehingga teks [ S, A, Y, A ] akan berubah menjadi [ 18, 0, 24, 0 ]."
      ],
      "metadata": {
        "id": "wc0QQN332sVE"
      }
    },
    {
      "cell_type": "code",
      "source": [
        "hill_log_encrypt_step_3 = []\n",
        "\n",
        "def fn_hill_encrypt_step_3():\n",
        "  step_1 = fn_hill_encrypt_step_1()\n",
        "  step_2 = [value - hill_char_diff for value in list(map(ord, hill_text))]\n",
        "  step_3 = [step_2[value : value + hill_slice] for value in range(0, len(step_2), hill_slice)]\n",
        "  step_4 = np.matrix(step_3)\n",
        "\n",
        "  for hill_index, hill_value in enumerate(step_1):\n",
        "    log_entry = f\"{step_1[hill_index]}: {ord(hill_value)-hill_char_diff}\"\n",
        "    hill_log_encrypt_step_3.append(log_entry)\n",
        "\n",
        "  return step_4\n",
        "\n",
        "print(f\"{fn_hill_encrypt_step_3()}\\n\")\n",
        "for entry in hill_log_encrypt_step_3:\n",
        "  print(entry)"
      ],
      "metadata": {
        "colab": {
          "base_uri": "https://localhost:8080/"
        },
        "id": "kWeEA_X09qiG",
        "outputId": "881acc66-4638-44db-95db-f675e691a117"
      },
      "execution_count": 785,
      "outputs": [
        {
          "output_type": "stream",
          "name": "stdout",
          "text": [
            "[[18  0]\n",
            " [24  0]]\n",
            "\n",
            "S: 18\n",
            "A: 0\n",
            "Y: 24\n",
            "A: 0\n"
          ]
        }
      ]
    },
    {
      "cell_type": "markdown",
      "source": [
        "#### Langkah Ketiga\n",
        "Mengubah kata kunci menjadi angka numerik dengan rumus jika A adalah 0 (nol), dan Z adalah 25 (dua puluh lima). Sehingga teks [ C, B, D, E ] akan berubah menjadi [ 2, 1, 3, 4 ]."
      ],
      "metadata": {
        "id": "98mcn76k29S9"
      }
    },
    {
      "cell_type": "code",
      "source": [
        "hill_log_encrypt_step_4 = []\n",
        "\n",
        "def fn_hill_encrypt_step_4():\n",
        "  step_1 = fn_hill_encrypt_step_2()\n",
        "  step_2 = [value - hill_char_diff for value in list(map(ord, step_1))]\n",
        "  step_3 = [step_2[value : value + hill_slice] for value in range(0, len(step_2), hill_slice)]\n",
        "  step_4 = np.matrix(step_3)\n",
        "\n",
        "  for hill_index, hill_value in enumerate(step_1):\n",
        "    log_entry = f\"{step_1[hill_index]}: {ord(hill_value)-hill_char_diff}\"\n",
        "    hill_log_encrypt_step_4.append(log_entry)\n",
        "\n",
        "  return step_4\n",
        "\n",
        "print(f\"{fn_hill_encrypt_step_4()}\\n\")\n",
        "for entry in hill_log_encrypt_step_4:\n",
        "  print(entry)"
      ],
      "metadata": {
        "colab": {
          "base_uri": "https://localhost:8080/"
        },
        "id": "0svoVlEK_gb0",
        "outputId": "82f042c6-61d7-46ac-8ed7-cff3463c1131"
      },
      "execution_count": 786,
      "outputs": [
        {
          "output_type": "stream",
          "name": "stdout",
          "text": [
            "[[2 1]\n",
            " [3 4]]\n",
            "\n",
            "C: 2\n",
            "B: 1\n",
            "D: 3\n",
            "E: 4\n"
          ]
        }
      ]
    },
    {
      "cell_type": "markdown",
      "source": [
        "Langkah keempat adalah melakukan enkripsi dengan rumus :\n",
        "\n",
        "$$\n",
        "E_{(x,\\ y)}^n=\\ (n_{(a,c)}\\ *\\ x)\\ +\\ (n_{(b,d)}\\ *\\ y)\\ %\\ z\n",
        "$$\n",
        "\n",
        "Keterangan :\n",
        "*   $E_{(x,y)}^n$ adalah enkripsi data berdasarkan baris ke-n dengan kolom x dan y\n",
        "*   $n_{(a,c)}$ adalah baris ke-n dimana n adalah a atau c pada matrix (2x2)\n",
        "*   $n_{(b,d)}$ adalah baris ke-n dimana n adalah b atau d pada matrix (2x2)\n",
        "*   $x$ adalah baris bagian atas pada matrix (1x2)\n",
        "*   $y$ adalah baris bagian bawah pada matrix (1x2)\n",
        "*   $z$ adalah jumlah huruf yakni 26\n",
        "\n",
        "Sehingga menjadi seperti pada kode berikut :\n",
        "\n",
        "\n",
        "\n",
        "\n"
      ],
      "metadata": {
        "id": "UVGC3mFn3FQY"
      }
    },
    {
      "cell_type": "code",
      "source": [
        "hill_log_encrypt_step_5_sub_step_6 = []\n",
        "hill_log_encrypt_step_5_sub_step_8 = []\n",
        "\n",
        "def fn_hill_encrypt_step_5():\n",
        "  step_1 = fn_hill_encrypt_step_3()\n",
        "  step_2 = fn_hill_encrypt_step_4()\n",
        "\n",
        "  a, b, c, d = list(chain.from_iterable(step_1.tolist()))\n",
        "  p, q, r, s = list(chain.from_iterable(step_2.tolist()))\n",
        "\n",
        "  pair_left = [a, c]\n",
        "  pair_right = [b, d]\n",
        "\n",
        "  top_left = (a * p) + (b * q)\n",
        "  top_right = (a * r) + (b * s)\n",
        "  bottom_left = (c * p) + (d * q)\n",
        "  bottom_right = (c * r) + (d * s)\n",
        "\n",
        "  step_3 = [top_left, top_right, bottom_left, bottom_right]\n",
        "  step_4 = [step_3[value : value + hill_slice] for value in range(0, len(step_3), hill_slice)]\n",
        "  step_5 = np.array(step_4)\n",
        "  step_6 = step_5 % hill_max_char\n",
        "  step_7 = list(chain.from_iterable(step_6.tolist()))\n",
        "\n",
        "  for hill_index in range(hill_slice):\n",
        "    sub_top_name = \"c\" if hill_index > 0 else \"a\"\n",
        "    sub_bottom_name = \"d\" if hill_index > 0 else \"b\"\n",
        "\n",
        "    sub_top_left_step_1 = p * pair_left[hill_index]\n",
        "    sub_bottom_left_step_1 = r * pair_left[hill_index]\n",
        "    sub_top_right_step_1 = q * pair_right[hill_index]\n",
        "    sub_bottom_right_step_1 = s * pair_right[hill_index]\n",
        "\n",
        "    sub_top_step_2 = sub_top_left_step_1 + sub_top_right_step_1\n",
        "    sub_bottom_step_2 = sub_bottom_left_step_1 + sub_bottom_right_step_1\n",
        "\n",
        "    sub_top_step_3 = sub_top_step_2 % hill_max_char\n",
        "    sub_bottom_step_3 = sub_bottom_step_2 % hill_max_char\n",
        "\n",
        "    sub_step_top = f\"{sub_top_name}: ({p} * {pair_left[hill_index]}) + ({q} * {pair_right[hill_index]}) % {hill_max_char} = ({sub_top_left_step_1} + {sub_top_right_step_1}) % {hill_max_char} = {sub_top_step_2} % {hill_max_char} = {sub_top_step_3}\"\n",
        "    sub_step_bottom = f\"{sub_bottom_name}: ({r} * {pair_left[hill_index]}) + ({s} * {pair_right[hill_index]}) % {hill_max_char} = ({sub_bottom_left_step_1} + {sub_bottom_right_step_1}) % {hill_max_char} = {sub_bottom_step_2} % {hill_max_char} = {sub_bottom_step_3}\"\n",
        "\n",
        "    hill_log_encrypt_step_5_sub_step_8.extend([sub_step_top])\n",
        "    hill_log_encrypt_step_5_sub_step_8.extend([sub_step_bottom])\n",
        "\n",
        "  hill_log_encrypt_step_5_sub_step_6.extend(step_6)\n",
        "  return step_7\n",
        "\n",
        "fn_hill_encrypt_step_5()\n",
        "print(f\"{np.matrix(hill_log_encrypt_step_5_sub_step_6)}\\n\")\n",
        "\n",
        "for entry in hill_log_encrypt_step_5_sub_step_8:\n",
        "  print(entry)"
      ],
      "metadata": {
        "colab": {
          "base_uri": "https://localhost:8080/"
        },
        "id": "fk1tk24z_3ys",
        "outputId": "76b51b07-b693-4517-80ec-375fbb2de9d6"
      },
      "execution_count": 787,
      "outputs": [
        {
          "output_type": "stream",
          "name": "stdout",
          "text": [
            "[[10  2]\n",
            " [22 20]]\n",
            "\n",
            "a: (2 * 18) + (1 * 0) % 26 = (36 + 0) % 26 = 36 % 26 = 10\n",
            "b: (3 * 18) + (4 * 0) % 26 = (54 + 0) % 26 = 54 % 26 = 2\n",
            "c: (2 * 24) + (1 * 0) % 26 = (48 + 0) % 26 = 48 % 26 = 22\n",
            "d: (3 * 24) + (4 * 0) % 26 = (72 + 0) % 26 = 72 % 26 = 20\n"
          ]
        }
      ]
    },
    {
      "cell_type": "markdown",
      "source": [
        "Berdasarkan tabel di atas, dapat disimpulkan bahwa hasil dari perkalian antara\n",
        "[ [ 18, 24 ] [ 0, 0 ] ] dan [ 2, 1, 3, 4 ] adalah [ 10, 2, 22, 20 ].\n"
      ],
      "metadata": {
        "id": "ZSyrPym64qRZ"
      }
    },
    {
      "cell_type": "markdown",
      "source": [
        "#### Langkah Kelima\n",
        "Mengubah angka numerik sesuai dengan rumus pada langkah kedua, sehingga menjadi [ K, C, W, U ] atau “KCWU”."
      ],
      "metadata": {
        "id": "zPSgOLjY4t1a"
      }
    },
    {
      "cell_type": "code",
      "source": [
        "def fn_hill_encrypt_step_6():\n",
        "  step_1 = fn_hill_encrypt_step_5()\n",
        "  step_2 = [chr(value + hill_char_diff) for value in step_1]\n",
        "  return step_2\n",
        "\n",
        "hill_log_encrypt_step_6 = fn_hill_encrypt_step_6()\n",
        "\n",
        "print(f\"{hill_log_encrypt_step_6}\\n\")\n",
        "for hill_index, hill_value in enumerate(hill_log_encrypt_step_6):\n",
        "  print(f\"{hill_text[hill_index]}: {hill_value}\")"
      ],
      "metadata": {
        "colab": {
          "base_uri": "https://localhost:8080/"
        },
        "id": "nrbH71ZjF4Ur",
        "outputId": "4e44051b-a502-416d-ef66-4b7146cb7e94"
      },
      "execution_count": 797,
      "outputs": [
        {
          "output_type": "stream",
          "name": "stdout",
          "text": [
            "['K', 'C', 'W', 'U']\n",
            "\n",
            "S: K\n",
            "A: C\n",
            "Y: W\n",
            "A: U\n"
          ]
        }
      ]
    },
    {
      "cell_type": "markdown",
      "source": [
        "### Dekripsi"
      ],
      "metadata": {
        "id": "K-mXoSBGF0PE"
      }
    },
    {
      "cell_type": "markdown",
      "source": [
        "---"
      ],
      "metadata": {
        "id": "riJJRBzM9Val"
      }
    },
    {
      "cell_type": "markdown",
      "source": [
        "#### Langkah Pertama\n",
        "Mengidentifikasi teks yang akan dienkripsi beserta kata kunci yang digunakan. Jika melihat soal, teks yang harus didekripsi adalah “KCWU” dengan kata kunci (key/salt) CBDE."
      ],
      "metadata": {
        "id": "INtSVWlmFsXr"
      }
    },
    {
      "cell_type": "markdown",
      "source": [
        "#### Langkah Kedua\n",
        "Mengubah teks menjadi angka numerik dengan rumus jika A adalah 0 (nol), dan Z adalah 25 (dua puluh lima). Sehingga teks [ K, C, W, U ] akan berubah menjadi [ 10, 2, 22, 20 ].\n"
      ],
      "metadata": {
        "id": "OWrl5UC1F7AU"
      }
    },
    {
      "cell_type": "markdown",
      "source": [
        "#### Langkah Ketiga\n",
        "Mengubah kata kunci menjadi angka numerik dengan rumus jika A adalah 0 (nol), dan Z adalah 25 (dua puluh lima). Sehingga teks [ C, B, D, E ] akan berubah menjadi [ 2, 1, 3, 4 ].\n"
      ],
      "metadata": {
        "id": "jOmKAyICF7_4"
      }
    },
    {
      "cell_type": "markdown",
      "source": [
        "#### Langkah Keempat\n",
        "Mencari determinan pada kata kunci yang sudah menjadi matrix, dengan menggunakan kode berikut :"
      ],
      "metadata": {
        "id": "VKM4huI4GD__"
      }
    },
    {
      "cell_type": "code",
      "source": [
        "def fn_hill_decrypt_step_1():\n",
        "  step_1 = fn_hill_encrypt_step_4()\n",
        "  step_2 = round(np.linalg.det(step_1))\n",
        "  return step_2\n",
        "\n",
        "print(fn_hill_decrypt_step_1())"
      ],
      "metadata": {
        "id": "4e7OwxHjh_Ol",
        "colab": {
          "base_uri": "https://localhost:8080/"
        },
        "outputId": "b68ddcdf-e1bc-4475-9df7-b876b522b941"
      },
      "execution_count": 789,
      "outputs": [
        {
          "output_type": "stream",
          "name": "stdout",
          "text": [
            "5\n"
          ]
        }
      ]
    },
    {
      "cell_type": "markdown",
      "source": [
        "#### Langkah Kelima\n",
        "Mencari invers pada kata kunci yang sudah menjadi matrix, dengan menggunakan kode berikut :"
      ],
      "metadata": {
        "id": "WKvANT1HGWvf"
      }
    },
    {
      "cell_type": "code",
      "source": [
        "def fn_hill_decrypt_step_2():\n",
        "  step_1 = fn_hill_encrypt_step_4()\n",
        "  step_2 = step_1.tolist()\n",
        "  step_3 = list(chain.from_iterable(step_2))\n",
        "  a, b, c, d = step_3\n",
        "  step_4 = np.array([d, -b, -c, a])\n",
        "  step_5 = step_4.reshape(2, 2)\n",
        "  return step_5\n",
        "\n",
        "print(f\"{fn_hill_decrypt_step_2()}\\n\")"
      ],
      "metadata": {
        "colab": {
          "base_uri": "https://localhost:8080/"
        },
        "id": "jI4i5ioRc1sL",
        "outputId": "34f506a6-8cab-43c5-ea16-bd422b8c5ba6"
      },
      "execution_count": 790,
      "outputs": [
        {
          "output_type": "stream",
          "name": "stdout",
          "text": [
            "[[ 4 -1]\n",
            " [-3  2]]\n",
            "\n"
          ]
        }
      ]
    },
    {
      "cell_type": "code",
      "source": [
        "hill_log_decrypt_step_3_sub_step_2 = []\n",
        "hill_log_decrypt_step_3_sub_step_3 = []\n",
        "\n",
        "def fn_hill_decrypt_step_3():\n",
        "  step_0 = fn_hill_decrypt_step_1()\n",
        "  fn_step_1 = lambda hill_value: hill_value * step_0\n",
        "  fn_step_2 = lambda hill_value: fn_step_1(hill_value) % hill_max_char\n",
        "  step_1 = [1]\n",
        "  step_2 = [fn_step_2(step_1[0])]\n",
        "\n",
        "  while step_2[-1] != 1:\n",
        "    step_1.append(step_1[-1]+1)\n",
        "    step_2.append(fn_step_2(step_1[-1]))\n",
        "\n",
        "  for hill_value in step_1:\n",
        "    step_3 = f\"(n = {hill_value}) = {step_0} * {hill_value} % {hill_max_char} = {fn_step_1(hill_value)} % {hill_max_char} = {fn_step_2(hill_value)}\"\n",
        "    hill_log_decrypt_step_3_sub_step_3.append(step_3)\n",
        "\n",
        "  hill_log_decrypt_step_3_sub_step_2.extend(step_2)\n",
        "  step_3 = step_1[-1]\n",
        "  return step_3\n",
        "\n",
        "print(f\"{fn_hill_decrypt_step_3()}\\n\")\n",
        "print(f\"{hill_log_decrypt_step_3_sub_step_2}\\n\")\n",
        "\n",
        "for entry in hill_log_decrypt_step_3_sub_step_3:\n",
        "  print(entry)"
      ],
      "metadata": {
        "colab": {
          "base_uri": "https://localhost:8080/"
        },
        "id": "l-iIYUfYekkJ",
        "outputId": "73deb0d4-0d57-4636-d3b0-f85137fc7bde"
      },
      "execution_count": 791,
      "outputs": [
        {
          "output_type": "stream",
          "name": "stdout",
          "text": [
            "21\n",
            "\n",
            "[5, 10, 15, 20, 25, 4, 9, 14, 19, 24, 3, 8, 13, 18, 23, 2, 7, 12, 17, 22, 1]\n",
            "\n",
            "(n = 1) = 5 * 1 % 26 = 5 % 26 = 5\n",
            "(n = 2) = 5 * 2 % 26 = 10 % 26 = 10\n",
            "(n = 3) = 5 * 3 % 26 = 15 % 26 = 15\n",
            "(n = 4) = 5 * 4 % 26 = 20 % 26 = 20\n",
            "(n = 5) = 5 * 5 % 26 = 25 % 26 = 25\n",
            "(n = 6) = 5 * 6 % 26 = 30 % 26 = 4\n",
            "(n = 7) = 5 * 7 % 26 = 35 % 26 = 9\n",
            "(n = 8) = 5 * 8 % 26 = 40 % 26 = 14\n",
            "(n = 9) = 5 * 9 % 26 = 45 % 26 = 19\n",
            "(n = 10) = 5 * 10 % 26 = 50 % 26 = 24\n",
            "(n = 11) = 5 * 11 % 26 = 55 % 26 = 3\n",
            "(n = 12) = 5 * 12 % 26 = 60 % 26 = 8\n",
            "(n = 13) = 5 * 13 % 26 = 65 % 26 = 13\n",
            "(n = 14) = 5 * 14 % 26 = 70 % 26 = 18\n",
            "(n = 15) = 5 * 15 % 26 = 75 % 26 = 23\n",
            "(n = 16) = 5 * 16 % 26 = 80 % 26 = 2\n",
            "(n = 17) = 5 * 17 % 26 = 85 % 26 = 7\n",
            "(n = 18) = 5 * 18 % 26 = 90 % 26 = 12\n",
            "(n = 19) = 5 * 19 % 26 = 95 % 26 = 17\n",
            "(n = 20) = 5 * 20 % 26 = 100 % 26 = 22\n",
            "(n = 21) = 5 * 21 % 26 = 105 % 26 = 1\n"
          ]
        }
      ]
    },
    {
      "cell_type": "code",
      "source": [
        "hill_log_decrypt_step_4 = []\n",
        "\n",
        "def fn_hill_decrypt_step_4():\n",
        "  step_1 = fn_hill_decrypt_step_2()\n",
        "  step_2 = fn_hill_decrypt_step_3()\n",
        "  step_3 = np.dot(step_2, step_1)\n",
        "  step_4 = list(chain.from_iterable(step_1.tolist()))\n",
        "  step_5 = list(chain.from_iterable(step_3.tolist()))\n",
        "\n",
        "  hill_log_decrypt_step_4.extend([f\"K(i) = ({step_2} * {step_4}) % {hill_max_char}\"])\n",
        "  hill_log_decrypt_step_4.extend([f\"K(i) = {step_5} % {hill_max_char}\"])\n",
        "  return step_3\n",
        "\n",
        "print(f\"{fn_hill_decrypt_step_4()}\\n\")\n",
        "for entry in hill_log_decrypt_step_4:\n",
        "  print(entry)"
      ],
      "metadata": {
        "colab": {
          "base_uri": "https://localhost:8080/"
        },
        "id": "CLeA5E29e-tt",
        "outputId": "7458e0a1-5f23-453c-ee0d-02fe0ad03cf0"
      },
      "execution_count": 792,
      "outputs": [
        {
          "output_type": "stream",
          "name": "stdout",
          "text": [
            "[[ 84 -21]\n",
            " [-63  42]]\n",
            "\n",
            "K(i) = (21 * [4, -1, -3, 2]) % 26\n",
            "K(i) = [84, -21, -63, 42] % 26\n"
          ]
        }
      ]
    },
    {
      "cell_type": "code",
      "source": [
        "hill_log_decrypt_step_5 = []\n",
        "\n",
        "def fn_hill_decrypt_step_5():\n",
        "  step_1 = fn_hill_decrypt_step_4()\n",
        "  step_2 = step_1 % hill_max_char\n",
        "  step_3 = list(chain.from_iterable(step_1.tolist()))\n",
        "  step_4 = list(chain.from_iterable(step_2.tolist()))\n",
        "\n",
        "  hill_log_decrypt_step_5.extend([f\"K(i) = {step_3} % {hill_max_char}\"])\n",
        "  hill_log_decrypt_step_5.extend([f\"K(i) = {step_4}\"])\n",
        "  return step_2\n",
        "\n",
        "print(f\"{fn_hill_decrypt_step_5()}\\n\")\n",
        "for entry in hill_log_decrypt_step_5:\n",
        "  print(entry)"
      ],
      "metadata": {
        "colab": {
          "base_uri": "https://localhost:8080/"
        },
        "id": "UR3OqH4bgrDz",
        "outputId": "d1ed7b49-ba98-40c2-decd-876706f26a58"
      },
      "execution_count": 793,
      "outputs": [
        {
          "output_type": "stream",
          "name": "stdout",
          "text": [
            "[[ 6  5]\n",
            " [15 16]]\n",
            "\n",
            "K(i) = [84, -21, -63, 42] % 26\n",
            "K(i) = [6, 5, 15, 16]\n"
          ]
        }
      ]
    },
    {
      "cell_type": "markdown",
      "source": [
        "#### Langkah Keenam\n",
        "Melakukan perkalian silang antara teks yang akan didekripsi dengan matrix kunci yang sudah melalui proses inverse. Ketika melakukan perkalian silang, nilai dari teks akan terbagi menjadi 2 (dua) bagian dengan ukuran matrix (1x2) yang diambil dari matrix (2x2). Setelah mengalami perubahan, barulah teks tersebut dikali silang dengan matrix kunci inverse, seperti pada kode berikut ini :"
      ],
      "metadata": {
        "id": "IjYaUFhYGpzW"
      }
    },
    {
      "cell_type": "code",
      "source": [
        "def fn_hill_decrypt_step_6():\n",
        "  step_1 = fn_hill_encrypt_step_6()\n",
        "  step_2 = [value - hill_char_diff for value in list(map(ord, step_1))]\n",
        "  step_3 = np.matrix(step_2)\n",
        "  step_4 = np.reshape(step_3, (2, 2))\n",
        "  return step_4\n",
        "\n",
        "print(f\"{fn_hill_decrypt_step_6()}\\n\")"
      ],
      "metadata": {
        "colab": {
          "base_uri": "https://localhost:8080/"
        },
        "id": "2ABcEqFfjniP",
        "outputId": "46ef1d3d-5819-447c-c37e-38ab0412eb5b"
      },
      "execution_count": 794,
      "outputs": [
        {
          "output_type": "stream",
          "name": "stdout",
          "text": [
            "[[10  2]\n",
            " [22 20]]\n",
            "\n"
          ]
        }
      ]
    },
    {
      "cell_type": "code",
      "source": [
        "hill_log_decrypt_step_7_sub_step_6 = []\n",
        "hill_log_decrypt_step_7_sub_step_8 = []\n",
        "\n",
        "def fn_hill_decrypt_step_7():\n",
        "  step_1 = fn_hill_decrypt_step_5()\n",
        "  step_2 = fn_hill_decrypt_step_6()\n",
        "\n",
        "  a,b,c,d = list(chain.from_iterable(step_1.tolist()))\n",
        "  p,q,r,s = list(chain.from_iterable(step_2.tolist()))\n",
        "\n",
        "  pair_left = [a, c]\n",
        "  pair_right = [b, d]\n",
        "\n",
        "  top_left = (a * p) + (b * q)\n",
        "  top_right = (a * r) + (b * s)\n",
        "  bottom_left = (c * p) + (d * q)\n",
        "  bottom_right = (c * r) + (d * s)\n",
        "\n",
        "  step_3 = [top_left, bottom_left, top_right, bottom_right]\n",
        "  step_4 = [step_3[value : value + hill_slice] for value in range(0, len(step_3), hill_slice)]\n",
        "  step_5 = np.array(step_4)\n",
        "  step_6 = step_5 % hill_max_char\n",
        "  step_7 = list(chain.from_iterable(step_6.tolist()))\n",
        "\n",
        "  for hill_index in range(hill_slice):\n",
        "    sub_top_name = \"b\" if hill_index > 0 else \"a\"\n",
        "    sub_bottom_name = \"d\" if hill_index > 0 else \"c\"\n",
        "\n",
        "    sub_top_left_step_1 = p * pair_left[hill_index]\n",
        "    sub_bottom_left_step_1 = r * pair_left[hill_index]\n",
        "    sub_top_right_step_1 = q * pair_right[hill_index]\n",
        "    sub_bottom_right_step_1 = s * pair_right[hill_index]\n",
        "\n",
        "    sub_top_step_2 = sub_top_left_step_1 + sub_top_right_step_1\n",
        "    sub_bottom_step_2 = sub_bottom_left_step_1 + sub_bottom_right_step_1\n",
        "\n",
        "    sub_top_step_3 = sub_top_step_2 % hill_max_char\n",
        "    sub_bottom_step_3 = sub_bottom_step_2 % hill_max_char\n",
        "\n",
        "    sub_step_top = f\"{sub_top_name}: ({p} * {pair_left[hill_index]}) + ({q} * {pair_right[hill_index]}) % {hill_max_char} = ({sub_top_left_step_1} + {sub_top_right_step_1}) % {hill_max_char} = {sub_top_step_2} % {hill_max_char} = {sub_top_step_3}\"\n",
        "    sub_step_bottom = f\"{sub_bottom_name}: ({r} * {pair_left[hill_index]}) + ({s} * {pair_right[hill_index]}) % {hill_max_char} = ({sub_bottom_left_step_1} + {sub_bottom_right_step_1}) % {hill_max_char} = {sub_bottom_step_2} % {hill_max_char} = {sub_bottom_step_3}\"\n",
        "\n",
        "    hill_log_decrypt_step_7_sub_step_8.extend([sub_step_top])\n",
        "    hill_log_decrypt_step_7_sub_step_8.extend([sub_step_bottom])\n",
        "\n",
        "  hill_log_decrypt_step_7_sub_step_6.extend(step_6)\n",
        "  return step_7\n",
        "\n",
        "fn_hill_decrypt_step_7()\n",
        "print(f\"{np.matrix(hill_log_decrypt_step_7_sub_step_6)}\\n\")\n",
        "\n",
        "for entry in hill_log_decrypt_step_7_sub_step_8:\n",
        "  print(entry)"
      ],
      "metadata": {
        "colab": {
          "base_uri": "https://localhost:8080/"
        },
        "id": "ognzR4mvlr3a",
        "outputId": "31c7819f-0bc1-42fc-dae2-26931a706e36"
      },
      "execution_count": 795,
      "outputs": [
        {
          "output_type": "stream",
          "name": "stdout",
          "text": [
            "[[18  0]\n",
            " [24  0]]\n",
            "\n",
            "a: (10 * 6) + (2 * 5) % 26 = (60 + 10) % 26 = 70 % 26 = 18\n",
            "c: (22 * 6) + (20 * 5) % 26 = (132 + 100) % 26 = 232 % 26 = 24\n",
            "b: (10 * 15) + (2 * 16) % 26 = (150 + 32) % 26 = 182 % 26 = 0\n",
            "d: (22 * 15) + (20 * 16) % 26 = (330 + 320) % 26 = 650 % 26 = 0\n"
          ]
        }
      ]
    },
    {
      "cell_type": "markdown",
      "source": [
        "#### Langkah Ketujuh\n",
        "Mengubah angka numerik sesuai dengan rumus pada langkah kedua atau ketiga. Sehingga yang semula adalah [ 18, 0, 24, 0 ] menjadi [ S, A, Y, A ] atau “SAYA”, sehingga menjadi seperti berikut :"
      ],
      "metadata": {
        "id": "jvldTAmUG10s"
      }
    },
    {
      "cell_type": "code",
      "source": [
        "def fn_hill_decrypt_step_8():\n",
        "  step_1 = fn_hill_decrypt_step_7()\n",
        "  step_2 = [chr(value + hill_char_diff) for value in step_1]\n",
        "  print(step_2)\n",
        "\n",
        "fn_hill_decrypt_step_8()"
      ],
      "metadata": {
        "colab": {
          "base_uri": "https://localhost:8080/"
        },
        "id": "c1cS6xx1qIcc",
        "outputId": "984bf283-c97f-4c12-c041-5667abec5e45"
      },
      "execution_count": 796,
      "outputs": [
        {
          "output_type": "stream",
          "name": "stdout",
          "text": [
            "['S', 'A', 'Y', 'A']\n"
          ]
        }
      ]
    }
  ],
  "metadata": {
    "colab": {
      "provenance": [],
      "toc_visible": true,
      "authorship_tag": "ABX9TyNiE+anyzto0TzqA9JoBHz3",
      "include_colab_link": true
    },
    "kernelspec": {
      "display_name": "Python 3",
      "name": "python3"
    },
    "language_info": {
      "name": "python"
    }
  },
  "nbformat": 4,
  "nbformat_minor": 0
}